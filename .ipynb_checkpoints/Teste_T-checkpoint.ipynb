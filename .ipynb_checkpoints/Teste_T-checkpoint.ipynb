{
 "cells": [
  {
   "cell_type": "markdown",
   "metadata": {},
   "source": [
    "# Teste T para uma variável\n",
    "\n",
    "Considere uma popução $X_1, X_2, ... X_n$. Estamos interessados em realizar inferência sobre a média populacional $\\mu$\n",
    "\n",
    "Para amostras pequenas $n\\lt 30$ devemos utilizar a estatística de teste:\n",
    "$$\n",
    "    T = \\frac{\\bar X - \\mu_0}{\\frac{s}{\\sqrt{n}}} \\sim t_{n-1}\n",
    "$$"
   ]
  },
  {
   "cell_type": "markdown",
   "metadata": {},
   "source": [
    "## Teste Bilateral\n",
    "\n",
    "$$\n",
    "    H_0: \\mu = \\mu_0\n",
    "$$\n",
    "$$\n",
    "    H_1: \\mu \\ne \\mu_0\n",
    "$$\n",
    "\n",
    "- Região Crítica:\n",
    "$$\n",
    "    \\mathbb{P}[T \\gt t_{\\alpha/2}] = \\mathbb{P}[T \\lt -t_{\\alpha/2}] = \\alpha/2\n",
    "$$\n",
    "\n",
    "- Critério para rejeitar \n",
    "$$\n",
    "    H_0: T_{obs} > t_{\\alpha/2} \\text{  ou } T_{obs} < - t_{-\\alpha/2}\n",
    "$$\n",
    "\n",
    "- Valor P: \n",
    "$$\\text{p-valor} = 2\\mathbb{P}[T \\gt T_{obs} || H_0]$$\n",
    "\n",
    "- O intervalo de confiança é: \n",
    "$$\n",
    "    IC(\\mu, 1-\\alpha) = \\Biggl(\\bar X -t_{\\alpha /2} \\frac{s}{\\sqrt{n}}; \\bar X + t_{\\alpha /2} \\frac{s}{\\sqrt{n}}\\Biggl)\n",
    "$$\n",
    "\n",
    "- Erro Tipo II:\n",
    "\n",
    "O erro tipo II é cometido ao aceitar $H_0$ quando esta é falsa ($H_1$ é verdadeira)\n",
    "\n",
    "$$\n",
    "    \\mathbb{P}[\\text{erro tipo II}] = \\mathbb{P}[\\text{Aceitar $H_0|H_1$ é verdadeira}] = \\beta \n",
    "$$\n",
    "\n",
    "Supondo a hipótese nula falsa e que o valor verdadeiro é $\\mu = \\mu_0 + \\delta$, então a estatística de teste $T$ assume uma distribuição *t de student não central* com parâmetro de não centralidade $\\delta \\sqrt n /\\sigma$ e $n-1$ graus de liberdade. Dessa forma a probabilidade de erro tipo 2 é dada por:\n",
    "$$\n",
    "    \\beta = \\Psi(t_{\\alpha/2}) - \\Psi(-t_{\\alpha/2})\n",
    "$$\n",
    "\n",
    "onde $\\Psi$ é a função distribuição acumulada da variável aleatória t `nct.cdf(df, nc)`\n",
    "- Poder do Teste:\n",
    "$$\n",
    "    \\text{Poder} = 1 - \\Psi(t_{\\alpha/2}) - \\Psi(-t_{\\alpha/2})\n",
    "$$\n"
   ]
  },
  {
   "cell_type": "code",
   "execution_count": 29,
   "metadata": {},
   "outputs": [],
   "source": [
    "from scipy.stats import norm, t, nct\n",
    "\n",
    "from scipy.stats import ttest_1samp as t_test\n",
    "\n",
    "import numpy as np\n",
    "import matplotlib.pyplot as plt"
   ]
  },
  {
   "cell_type": "code",
   "execution_count": 141,
   "metadata": {},
   "outputs": [],
   "source": [
    "N = 1000 # Array size or resolutions\n",
    "\n",
    "n = 10 # Sample size\n",
    "avg = 10\n",
    "std = 2\n",
    "\n",
    "alpha = 0.05\n",
    "delta = 0.10*avg"
   ]
  },
  {
   "cell_type": "code",
   "execution_count": 134,
   "metadata": {},
   "outputs": [
    {
     "data": {
      "text/plain": [
       "<matplotlib.legend.Legend at 0x7fdb38c1a520>"
      ]
     },
     "execution_count": 134,
     "metadata": {},
     "output_type": "execute_result"
    },
    {
     "data": {
      "image/png": "[encoded data removed]",
      "text/plain": [
       "<Figure size 432x288 with 1 Axes>"
      ]
     },
     "metadata": {
      "needs_background": "light"
     },
     "output_type": "display_data"
    }
   ],
   "source": [
    "# Creating samples\n",
    "rv = norm(loc=avg, scale=std)\n",
    "X = rv.rvs(size=n)\n",
    "\n",
    "# Plot the sample\n",
    "x = np.linspace(avg-4*std, avg+4*std,N)\n",
    "plt.hist(X, density=True, bins=30, label=\"Amostra\")\n",
    "plt.plot(x, rv.pdf(x), 'r-', lw=4, label=\"Distribuição teórica\")\n",
    "plt.legend(loc=\"upper right\")"
   ]
  },
  {
   "cell_type": "code",
   "execution_count": 135,
   "metadata": {},
   "outputs": [
    {
     "name": "stdout",
     "output_type": "stream",
     "text": [
      "X_bar =  10.8296\n",
      "s =  1.7507 \n",
      "\n",
      "T_obs:  1.4985\n",
      "P-Valor:  0.1682\n",
      "Rejeitar H0:  True \n",
      "\n",
      "IC(média= 10.8296 , 1-alpha= 0.95 ) = ( 9.58 ; 12.08 )\n",
      "\n"
     ]
    }
   ],
   "source": [
    "# Statistics\n",
    "x_bar = np.mean(X)\n",
    "s = np.std(X, ddof=1)\n",
    "print(\"X_bar = \", \"%.4f\"%x_bar)\n",
    "print(\"s = \", \"%.4f\"%s, \"\\n\")\n",
    "\n",
    "# T-Test \n",
    "t_stat, p_value = t_test(X, avg)\n",
    "test = t_stat > p_value or t_stat < -p_value\n",
    "print(\"T_obs: \", \"%.4f\"%t_stat)\n",
    "print(\"P-Valor: \", \"%.4f\"%p_value)\n",
    "print(\"Rejeitar H0: \", test, \"\\n\")\n",
    "\n",
    "# Intevalo de Cofiança\n",
    "t_1, t_2 = t.interval(1-alpha, n-1)\n",
    "LI= x_bar + t_1*s/np.sqrt(n)\n",
    "LS= x_bar + t_2*s/np.sqrt(n)\n",
    "print(\"IC(média=\", \"%.4f\"%x_bar, \", 1-alpha=\", \"%.2f\"%(1-alpha), \") = (\", \"%.2f\"% LI, \";\", \"%.2f\"%LS, \")\\n\")\n"
   ]
  },
  {
   "cell_type": "code",
   "execution_count": 136,
   "metadata": {},
   "outputs": [
    {
     "data": {
      "text/plain": [
       "<matplotlib.legend.Legend at 0x7fdb38b41f70>"
      ]
     },
     "execution_count": 136,
     "metadata": {},
     "output_type": "execute_result"
    },
    {
     "data": {
      "image/png": "[encoded data removed]",
      "text/plain": [
       "<Figure size 432x288 with 1 Axes>"
      ]
     },
     "metadata": {
      "needs_background": "light"
     },
     "output_type": "display_data"
    }
   ],
   "source": [
    "# Plot\n",
    "x_t = np.linspace(-5,5,N) # Standard T-student range for plot\n",
    "ax_plot = plt.plot(x_t, t.pdf(x_t, df=n-1),'k-', label=\"T-student for H0:mi=mi_0\") #t-Student com n-1 graus de liberdade\n",
    "\n",
    "x_lower = np.linspace(-5, t_1, N) #Range out of spec lower limit\n",
    "x_upper = np.linspace(t_2, 5,N) # Range out of spec upper limit\n",
    "\n",
    "if(p_value > 0):\n",
    "    x_pvalue = np.linspace(t_stat, 5,N) \n",
    "else:\n",
    "    x_pvalue = np.linspace(-5, t_stat,N)\n",
    "    \n",
    "x_obs_line = np.linspace(0, t.pdf(p_value, df=n-1), N)\n",
    "#plt.plot(p_value*np.ones((n,1)),x_obs_line, color='k')\n",
    "\n",
    "plt.fill_between(x_lower, t.pdf(x_lower, df=n-1), color='b', alpha=0.5)\n",
    "plt.fill_between(x_upper, t.pdf(x_upper, df=n-1), color='b', alpha=0.5)\n",
    "plt.fill_between(x_pvalue, t.pdf(x_pvalue, df=n-1), color='k', alpha=0.3)\n",
    "\n",
    "plt.text(t_stat, 0, \"T-obs\", rotation=45)\n",
    "plt.text(t_stat, t.pdf(p_value, df=n-1), \"p_value\", rotation=45)\n",
    "\n",
    "plt.text(t_1-1.5, alpha/2, str(\"%.3f\"% (alpha/2))+\"%\", rotation=45)\n",
    "plt.text(t_1, 0, \"-t_a/2\", rotation=45)\n",
    "\n",
    "plt.text(t_2+1, alpha/2, str(\"%.3f\"% (alpha/2))+\"%\", rotation=45)\n",
    "plt.text(t_2, 0, \"t_a/2\", rotation=45)\n",
    "\n",
    "plt.legend(loc=\"upper left\")"
   ]
  },
  {
   "cell_type": "code",
   "execution_count": 148,
   "metadata": {},
   "outputs": [
    {
     "name": "stdout",
     "output_type": "stream",
     "text": [
      "Beta:  0.63\n",
      "Poder do Teste:  0.37\n"
     ]
    },
    {
     "data": {
      "text/plain": [
       "<matplotlib.legend.Legend at 0x7fdb38839670>"
      ]
     },
     "execution_count": 148,
     "metadata": {},
     "output_type": "execute_result"
    },
    {
     "data": {
      "image/png": "[encoded data removed]",
      "text/plain": [
       "<Figure size 432x288 with 1 Axes>"
      ]
     },
     "metadata": {
      "needs_background": "light"
     },
     "output_type": "display_data"
    }
   ],
   "source": [
    "# Poder do teste\n",
    "c = delta*np.sqrt(n)/s\n",
    "beta = nct.cdf(t_2, df=n-1, nc=c) - nct.cdf(t_1, df=n-1, nc=c)\n",
    "poder = 1 - beta\n",
    "\n",
    "print(\"Beta: \", \"%.2f\"%beta)\n",
    "print(\"Poder do Teste: \", \"%.2f\"%poder)\n",
    "\n",
    "x_t = np.linspace(-5,5,N) # Standard T-student range for plot\n",
    "ax_plot = plt.plot(x_t, t.pdf(x_t, df=n-1),'b-', label=\"H0:mi=mi_0\") #t-Student com n-1 graus de liberdade\n",
    "plt.fill_between(x_lower, t.pdf(x_lower, df=n-1), color='b', alpha=0.5)\n",
    "plt.fill_between(x_upper, t.pdf(x_upper, df=n-1), color='b', alpha=0.5)\n",
    "\n",
    "\n",
    "\n",
    "ax_plot = plt.plot(x_t, t.pdf(x_t, df=n-1, loc=delta),'r-', label=\"H1:mi<>mi_0\")\n",
    "plt.legend(loc=\"upper left\")"
   ]
  },
  {
   "cell_type": "code",
   "execution_count": null,
   "metadata": {},
   "outputs": [],
   "source": []
  },
  {
   "cell_type": "code",
   "execution_count": null,
   "metadata": {},
   "outputs": [],
   "source": []
  }
 ],
 "metadata": {
  "kernelspec": {
   "display_name": "Python 3",
   "language": "python",
   "name": "python3"
  },
  "language_info": {
   "codemirror_mode": {
    "name": "ipython",
    "version": 3
   },
   "file_extension": ".py",
   "mimetype": "text/x-python",
   "name": "python",
   "nbconvert_exporter": "python",
   "pygments_lexer": "ipython3",
   "version": "3.8.5"
  }
 },
 "nbformat": 4,
 "nbformat_minor": 4
}
