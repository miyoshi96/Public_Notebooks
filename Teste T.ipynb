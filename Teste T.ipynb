{
 "cells": [
  {
   "cell_type": "markdown",
   "metadata": {},
   "source": [
    "# Teste T para uma variável\n",
    "\n",
    "Considere uma popução $X_1, X_2, ... X_n$. Estamos interessados em realizar inferência sobre a média populacional $\\mu$\n",
    "\n",
    "Para amostras pequenas $n\\lt 30$ devemos utilizar a estatística de teste:\n",
    "$$\n",
    "    T = \\frac{\\bar X - \\mu_0}{\\frac{s}{\\sqrt{n}}} \\sim t_{n-1}\n",
    "$$"
   ]
  },
  {
   "cell_type": "markdown",
   "metadata": {},
   "source": [
    "## Teste Bilateral\n",
    "\n",
    "$$\n",
    "    H_0: \\mu = \\mu_0\n",
    "$$\n",
    "$$\n",
    "    H_1: \\mu \\ne \\mu_0\n",
    "$$\n",
    "\n",
    "- Região Crítica:\n",
    "$$\n",
    "    \\mathbb{P}[T \\gt t_{\\alpha/2}] = \\mathbb{P}[T \\lt -t_{\\alpha/2}] = \\alpha/2\n",
    "$$\n",
    "\n",
    "- Critério para rejeitar $H_0$: $T_{obs} > t_{\\alpha/2}$ ou se $T_{obs} < - t_{-\\alpha/2}$\n",
    "\n",
    "- Valor P: \n",
    "$$\\text{p-valor} = 2\\mathbb{P}[T \\gt T_{obs} || H_0]$$\n",
    "\n",
    "- O intervalo de confiança é: \n",
    "$$\n",
    "    IC(\\mu, 1-\\alpha) = \\Biggl(\\bar X -t_{\\alpha /2} \\frac{s}{\\sqrt{n}}; \\bar X + t_{\\alpha /2} \\frac{s}{\\sqrt{n}}\\Biggl)\n",
    "$$\n",
    "\n",
    "- Erro Tipo II:\n",
    "\n",
    "O erro tipo II é cometido ao aceitar $H_0$ quando esta é falsa ($H_1$ é verdadeira)\n",
    "\n",
    "$$\n",
    "    \\mathbb{P}[\\text{erro tipo II}] = \\mathbb{P}[\\text{Aceitar $H_0|H_1$ é verdadeira}] = \\beta \n",
    "$$\n",
    "\n",
    "Supondo a hipótese nula falsa e que o valor verdadeiro é $\\mu = \\mu_0 + \\delta$, então a estatística de teste $T$ assume uma distribuição *t de student não central* com parâmetro de não centralidade $\\delta \\sqrt n /\\sigma$ e $n-1$ graus de liberdade. Dessa forma a probabilidade de erro tipo 2 é dada por:\n",
    "$$\n",
    "    \\beta = \\Psi(t_{\\alpha/2}) - \\Psi(-t_{\\alpha/2})\n",
    "$$\n",
    "\n",
    "onde $\\Psi$ é a função distribuição acumulada da variável aleatória t `nct.cdf(df, nc)`\n",
    "- Poder do Teste:\n",
    "$$\n",
    "    \\text{Poder} = 1 - \\Psi(t_{\\alpha/2}) - \\Psi(-t_{\\alpha/2})\n",
    "$$\n"
   ]
  },
  {
   "cell_type": "code",
   "execution_count": 3,
   "metadata": {},
   "outputs": [],
   "source": [
    "from scipy.stats import norm, t\n",
    "import numpy as np\n",
    "import matplotlib.pyplot as plt"
   ]
  },
  {
   "cell_type": "code",
   "execution_count": 184,
   "metadata": {},
   "outputs": [
    {
     "data": {
      "text/plain": [
       "[<matplotlib.lines.Line2D at 0x7f83e0005760>]"
      ]
     },
     "execution_count": 184,
     "metadata": {},
     "output_type": "execute_result"
    },
    {
     "data": {
      "image/png": "[encoded data removed]",
      "text/plain": [
       "<Figure size 432x288 with 1 Axes>"
      ]
     },
     "metadata": {
      "needs_background": "light"
     },
     "output_type": "display_data"
    }
   ],
   "source": [
    "N = 10000\n",
    "avg = 10\n",
    "std = 2\n",
    "\n",
    "\n",
    "rv = norm(loc=avg, scale=std)\n",
    "X = rv.rvs(size=N)\n",
    "x = np.linspace(avg-4*std, avg+4*std,N)\n",
    "plt.hist(X, density=True, bins=30)\n",
    "plt.plot(x, rv.pdf(x), 'r-', lw=4)"
   ]
  },
  {
   "cell_type": "code",
   "execution_count": 185,
   "metadata": {},
   "outputs": [
    {
     "name": "stdout",
     "output_type": "stream",
     "text": [
      "Sample average:  10.0285\n",
      "0.43828731132825777 0.6612727790613975 False\n"
     ]
    }
   ],
   "source": [
    "from scipy.stats import ttest_1samp as t_test\n",
    "alpha = 0.95\n",
    "n= 1000\n",
    "\n",
    "X_samples = rv.rvs(size=n)\n",
    "x_bar = np.mean(X_samples)\n",
    "s = np.std(X_sample, ddof=1)\n",
    "\n",
    "t_stat, p_value = t_test(X_samples, avg)\n",
    "test = t_stat > p_value or t_stat < -p_value\n",
    "\n",
    "print('Sample average: ', \"%.4f\"%x_bar)\n",
    "print(t_stat, p_value, test)"
   ]
  },
  {
   "cell_type": "code",
   "execution_count": null,
   "metadata": {},
   "outputs": [],
   "source": [
    "#Testando Commits"
   ]
  },
  {
   "cell_type": "code",
   "execution_count": null,
   "metadata": {},
   "outputs": [],
   "source": []
  }
 ],
 "metadata": {
  "kernelspec": {
   "display_name": "Python 3",
   "language": "python",
   "name": "python3"
  },
  "language_info": {
   "codemirror_mode": {
    "name": "ipython",
    "version": 3
   },
   "file_extension": ".py",
   "mimetype": "text/x-python",
   "name": "python",
   "nbconvert_exporter": "python",
   "pygments_lexer": "ipython3",
   "version": "3.8.5"
  }
 },
 "nbformat": 4,
 "nbformat_minor": 4
}